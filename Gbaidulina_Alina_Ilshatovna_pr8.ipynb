{
 "cells": [
  {
   "cell_type": "code",
   "execution_count": 1,
   "id": "5de8958e",
   "metadata": {},
   "outputs": [
    {
     "name": "stdout",
     "output_type": "stream",
     "text": [
      "Requirement already satisfied: psycopg2-binary in c:\\users\\626\\appdata\\local\\packages\\pythonsoftwarefoundation.python.3.11_qbz5n2kfra8p0\\localcache\\local-packages\\python311\\site-packages (2.9.10)\n",
      "Requirement already satisfied: pandas in c:\\users\\626\\appdata\\local\\packages\\pythonsoftwarefoundation.python.3.11_qbz5n2kfra8p0\\localcache\\local-packages\\python311\\site-packages (2.2.3)\n",
      "Requirement already satisfied: sqlalchemy in c:\\users\\626\\appdata\\local\\packages\\pythonsoftwarefoundation.python.3.11_qbz5n2kfra8p0\\localcache\\local-packages\\python311\\site-packages (2.0.40)\n",
      "Requirement already satisfied: matplotlib in c:\\users\\626\\appdata\\local\\packages\\pythonsoftwarefoundation.python.3.11_qbz5n2kfra8p0\\localcache\\local-packages\\python311\\site-packages (3.10.1)\n",
      "Requirement already satisfied: numpy in c:\\users\\626\\appdata\\local\\packages\\pythonsoftwarefoundation.python.3.11_qbz5n2kfra8p0\\localcache\\local-packages\\python311\\site-packages (2.2.5)\n",
      "Requirement already satisfied: python-dateutil>=2.8.2 in c:\\users\\626\\appdata\\local\\packages\\pythonsoftwarefoundation.python.3.11_qbz5n2kfra8p0\\localcache\\local-packages\\python311\\site-packages (from pandas) (2.9.0.post0)\n",
      "Requirement already satisfied: pytz>=2020.1 in c:\\users\\626\\appdata\\local\\packages\\pythonsoftwarefoundation.python.3.11_qbz5n2kfra8p0\\localcache\\local-packages\\python311\\site-packages (from pandas) (2025.2)\n",
      "Requirement already satisfied: tzdata>=2022.7 in c:\\users\\626\\appdata\\local\\packages\\pythonsoftwarefoundation.python.3.11_qbz5n2kfra8p0\\localcache\\local-packages\\python311\\site-packages (from pandas) (2025.2)\n",
      "Requirement already satisfied: greenlet>=1 in c:\\users\\626\\appdata\\local\\packages\\pythonsoftwarefoundation.python.3.11_qbz5n2kfra8p0\\localcache\\local-packages\\python311\\site-packages (from sqlalchemy) (3.2.0)\n",
      "Requirement already satisfied: typing-extensions>=4.6.0 in c:\\users\\626\\appdata\\local\\packages\\pythonsoftwarefoundation.python.3.11_qbz5n2kfra8p0\\localcache\\local-packages\\python311\\site-packages (from sqlalchemy) (4.13.1)\n",
      "Requirement already satisfied: contourpy>=1.0.1 in c:\\users\\626\\appdata\\local\\packages\\pythonsoftwarefoundation.python.3.11_qbz5n2kfra8p0\\localcache\\local-packages\\python311\\site-packages (from matplotlib) (1.3.2)\n",
      "Requirement already satisfied: cycler>=0.10 in c:\\users\\626\\appdata\\local\\packages\\pythonsoftwarefoundation.python.3.11_qbz5n2kfra8p0\\localcache\\local-packages\\python311\\site-packages (from matplotlib) (0.12.1)\n",
      "Requirement already satisfied: fonttools>=4.22.0 in c:\\users\\626\\appdata\\local\\packages\\pythonsoftwarefoundation.python.3.11_qbz5n2kfra8p0\\localcache\\local-packages\\python311\\site-packages (from matplotlib) (4.57.0)\n",
      "Requirement already satisfied: kiwisolver>=1.3.1 in c:\\users\\626\\appdata\\local\\packages\\pythonsoftwarefoundation.python.3.11_qbz5n2kfra8p0\\localcache\\local-packages\\python311\\site-packages (from matplotlib) (1.4.8)\n",
      "Requirement already satisfied: packaging>=20.0 in c:\\users\\626\\appdata\\local\\packages\\pythonsoftwarefoundation.python.3.11_qbz5n2kfra8p0\\localcache\\local-packages\\python311\\site-packages (from matplotlib) (24.2)\n",
      "Requirement already satisfied: pillow>=8 in c:\\users\\626\\appdata\\local\\packages\\pythonsoftwarefoundation.python.3.11_qbz5n2kfra8p0\\localcache\\local-packages\\python311\\site-packages (from matplotlib) (11.2.1)\n",
      "Requirement already satisfied: pyparsing>=2.3.1 in c:\\users\\626\\appdata\\local\\packages\\pythonsoftwarefoundation.python.3.11_qbz5n2kfra8p0\\localcache\\local-packages\\python311\\site-packages (from matplotlib) (3.2.3)\n",
      "Requirement already satisfied: six>=1.5 in c:\\users\\626\\appdata\\local\\packages\\pythonsoftwarefoundation.python.3.11_qbz5n2kfra8p0\\localcache\\local-packages\\python311\\site-packages (from python-dateutil>=2.8.2->pandas) (1.17.0)\n"
     ]
    },
    {
     "name": "stderr",
     "output_type": "stream",
     "text": [
      "\n",
      "[notice] A new release of pip is available: 24.0 -> 25.1.1\n",
      "[notice] To update, run: C:\\Users\\626\\AppData\\Local\\Microsoft\\WindowsApps\\PythonSoftwareFoundation.Python.3.11_qbz5n2kfra8p0\\python.exe -m pip install --upgrade pip\n"
     ]
    }
   ],
   "source": [
    "!pip install psycopg2-binary pandas sqlalchemy matplotlib numpy"
   ]
  },
  {
   "cell_type": "code",
   "execution_count": 2,
   "id": "252f2002",
   "metadata": {},
   "outputs": [],
   "source": [
    "import psycopg2\n",
    "from psycopg2 import Error\n",
    "from psycopg2 import extras # For execute_values\n",
    "import pandas as pd\n",
    "from sqlalchemy import create_engine\n",
    "import io # For StringIO\n",
    "import time\n",
    "import matplotlib.pyplot as plt\n",
    "import numpy as np\n",
    "import os # To check file existence"
   ]
  },
  {
   "cell_type": "code",
   "execution_count": 3,
   "id": "6e255975",
   "metadata": {},
   "outputs": [],
   "source": [
    "small_csv_path = r'\"C:\\Users\\626\\Downloads\\upload_test_data.csv\"'"
   ]
  },
  {
   "cell_type": "code",
   "execution_count": 4,
   "id": "5178f218",
   "metadata": {},
   "outputs": [],
   "source": [
    "big_csv_path = r'\"C:\\Users\\626\\Downloads\\upload_test_data_big.csv\"'"
   ]
  },
  {
   "cell_type": "code",
   "execution_count": 5,
   "id": "8b32afbb",
   "metadata": {},
   "outputs": [
    {
     "name": "stderr",
     "output_type": "stream",
     "text": [
      "\"ls\" �� ���� ����७��� ��� ���譥�\n",
      "��������, �ᯮ��塞�� �ணࠬ��� ��� ������ 䠩���.\n"
     ]
    }
   ],
   "source": [
    "!ls"
   ]
  },
  {
   "cell_type": "code",
   "execution_count": 6,
   "id": "88416275",
   "metadata": {},
   "outputs": [
    {
     "name": "stdout",
     "output_type": "stream",
     "text": [
      "Libraries installed and imported successfully.\n"
     ]
    }
   ],
   "source": [
    "# @markdown Установка и импорт необходимых библиотек.\n",
    "\n",
    "\n",
    "print(\"Libraries installed and imported successfully.\")\n",
    "\n",
    "# Database connection details (replace with your actual credentials if different)\n",
    "DB_USER = \"postgres\"\n",
    "DB_PASSWORD = \"1\"\n",
    "DB_HOST = \"localhost\"\n",
    "DB_PORT = \"5432\"\n",
    "DB_NAME = \"lect_08_bda_big_data\"\n",
    "\n",
    "# CSV File Paths (Ensure these files are uploaded to your Colab environment)\n",
    "small_csv_path = 'upload_test_data.csv'\n",
    "big_csv_path = 'upload_test_data_big.csv' # Corrected filename\n",
    "\n",
    "# Table name in PostgreSQL\n",
    "table_name = 'sales_data'"
   ]
  },
  {
   "cell_type": "code",
   "execution_count": 7,
   "id": "437cf471",
   "metadata": {},
   "outputs": [
    {
     "name": "stdout",
     "output_type": "stream",
     "text": [
      "Connecting to PostgreSQL database using psycopg2...\n",
      "PostgreSQL server information:\n",
      "{'user': 'postgres', 'channel_binding': 'prefer', 'dbname': 'lect_08_bda_big_data', 'host': 'localhost', 'port': '5432', 'options': '', 'sslmode': 'prefer', 'sslcompression': '0', 'sslcertmode': 'allow', 'sslsni': '1', 'ssl_min_protocol_version': 'TLSv1.2', 'gssencmode': 'disable', 'krbsrvname': 'postgres', 'gssdelegation': '0', 'target_session_attrs': 'any', 'load_balance_hosts': 'disable'} \n",
      "\n",
      "Successfully connected to: PostgreSQL 16.8, compiled by Visual C++ build 1942, 64-bit\n",
      "\n",
      "Creating SQLAlchemy engine...\n",
      "SQLAlchemy engine created successfully.\n"
     ]
    }
   ],
   "source": [
    "# @title # 3. Database Connection Test\n",
    "# @markdown Проверка соединения с базой данных PostgreSQL.\n",
    "\n",
    "connection = None\n",
    "cursor = None\n",
    "engine = None # For pandas.to_sql\n",
    "\n",
    "try:\n",
    "    # Establish connection using psycopg2\n",
    "    print(\"Connecting to PostgreSQL database using psycopg2...\")\n",
    "    connection = psycopg2.connect(user=DB_USER,\n",
    "                                  password=DB_PASSWORD,\n",
    "                                  host=DB_HOST,\n",
    "                                  port=DB_PORT,\n",
    "                                  database=DB_NAME)\n",
    "    connection.autocommit = False # Important for COPY and batch inserts within transactions\n",
    "    cursor = connection.cursor()\n",
    "\n",
    "    print(\"PostgreSQL server information:\")\n",
    "    print(connection.get_dsn_parameters(), \"\\n\")\n",
    "    cursor.execute(\"SELECT version();\")\n",
    "    record = cursor.fetchone()\n",
    "    print(f\"Successfully connected to: {record[0]}\\n\")\n",
    "\n",
    "    # Create SQLAlchemy engine for pandas\n",
    "    print(\"Creating SQLAlchemy engine...\")\n",
    "    engine_url = f\"postgresql+psycopg2://{DB_USER}:{DB_PASSWORD}@{DB_HOST}:{DB_PORT}/{DB_NAME}\"\n",
    "    engine = create_engine(engine_url)\n",
    "    print(\"SQLAlchemy engine created successfully.\")\n",
    "\n",
    "\n",
    "except (Exception, Error) as error:\n",
    "    print(f\"Error while connecting to PostgreSQL: {error}\")\n",
    "    # Ensure resources are closed even if connection fails partially\n",
    "    if cursor:\n",
    "        cursor.close()\n",
    "    if connection:\n",
    "        connection.close()\n",
    "    if engine:\n",
    "        engine.dispose() # Close SQLAlchemy engine pool\n",
    "    connection, cursor, engine = None, None, None # Reset variables\n",
    "\n",
    "# We keep the connection open for the rest of the script.\n",
    "# It will be closed in the final step."
   ]
  },
  {
   "cell_type": "code",
   "execution_count": 8,
   "id": "3f54bd5f",
   "metadata": {},
   "outputs": [],
   "source": [
    "# @title Вспомогательные Функции (Часть Базового Кода)\n",
    "# Убедитесь, что эта ячейка выполняется ПЕРЕД запуском кода варианта\n",
    "\n",
    "# ... (здесь должны быть определения connect_db, close_db, execute_sql, load_df_from_sql и т.д.)\n",
    "\n",
    "def execute_sql(sql_query, fetch=False):\n",
    "    \"\"\"Выполняет SQL-запрос и опционально возвращает результаты.\"\"\"\n",
    "    if not connection or not cursor:\n",
    "        print(\"Нет подключения к БД.\")\n",
    "        return None\n",
    "    try:\n",
    "        # print(f\"Выполнение SQL: {sql_query[:100]}...\") # Отладка: показать начало запроса\n",
    "        cursor.execute(sql_query)\n",
    "        if fetch:\n",
    "            results = cursor.fetchall()\n",
    "            # print(\"Результаты получены.\") # Отладка\n",
    "            return results\n",
    "        else:\n",
    "            # Для запросов не SELECT (CREATE, DROP, INSERT, UPDATE, DELETE)\n",
    "            # connection.commit() # Не требуется при autocommit=True\n",
    "            # print(\"Запрос успешно выполнен (без fetch).\") # Отладка\n",
    "            return True # Возвращаем True для индикации успеха выполнения не-SELECT запроса\n",
    "    except (Exception, Error) as error:\n",
    "        print(f\"Ошибка выполнения SQL: {error}\")\n",
    "        # connection.rollback() # Не требуется при autocommit=True\n",
    "        return None # Возвращаем None для индикации ошибки\n",
    "\n",
    "# --- Функция создания таблицы ---\n",
    "def create_table(tbl_name):\n",
    "    \"\"\"Создает стандартную таблицу для данных продаж, удаляя ее, если она существует.\"\"\"\n",
    "    print(f\"\\nПопытка создать таблицу: {tbl_name}\")\n",
    "    # Шаг 1: Удалить таблицу, если она уже существует\n",
    "    # Это важно для повторяемости: гарантирует, что мы начинаем с чистого листа\n",
    "    # и не получим ошибку \"table already exists\".\n",
    "    drop_success = execute_sql(f\"DROP TABLE IF EXISTS {tbl_name};\")\n",
    "    if drop_success is None: # Проверяем, не было ли ошибки при DROP\n",
    "        print(f\"Не удалось выполнить DROP TABLE для {tbl_name}. Создание таблицы отменено.\")\n",
    "        return # Прерываем создание, если DROP не удался\n",
    "\n",
    "    # Шаг 2: Определить SQL-запрос для создания таблицы\n",
    "    # Структура таблицы (колонки и типы данных) соответствует анализу\n",
    "    # из исходной практической работы. Имя таблицы берется из аргумента tbl_name.\n",
    "    create_query = f\"\"\"\n",
    "    CREATE TABLE {tbl_name} (\n",
    "        id INTEGER PRIMARY KEY,         -- Уникальный идентификатор, первичный ключ\n",
    "        quantity INTEGER,               -- Количество\n",
    "        cost NUMERIC(10, 2),            -- Стоимость (NUMERIC для точности)\n",
    "        total_revenue NUMERIC(12, 2)    -- Общая выручка (NUMERIC для точности)\n",
    "    );\n",
    "    \"\"\"\n",
    "    print(f\"Запрос на создание таблицы {tbl_name}:\\n{create_query}\")\n",
    "\n",
    "    # Шаг 3: Выполнить SQL-запрос на создание таблицы\n",
    "    create_success = execute_sql(create_query)\n",
    "    if create_success:\n",
    "        print(f\"Таблица '{tbl_name}' успешно создана.\")\n",
    "    else:\n",
    "        print(f\"Не удалось создать таблицу '{tbl_name}'.\")\n",
    "\n",
    "# ... (здесь определения load_via_pandas, load_via_copy_file, load_via_copy_stringio и т.д.)\n",
    "\n",
    "\n",
    "# @title Вспомогательные Функции (Часть Базового Кода - УБЕДИТЕСЬ, ЧТО ЭТА ЯЧЕЙКА ВЫПОЛНЕНА!)\n",
    "\n",
    "# ... (импорты, константы, connect_db, close_db, execute_sql, load_df_from_sql, create_table) ...\n",
    "\n",
    "# --- Функции Загрузки Данных ---\n",
    "\n",
    "def load_via_copy_file(file_path, tbl_name):\n",
    "    \"\"\"Загружает данные из DataFrame через file, используя copy_expert.\"\"\"\n",
    "    # Проверка подключения и наличия данных\n",
    "    if not connection or not cursor:\n",
    "        print(\"Нет подключения к БД или DataFrame пуст.\")\n",
    "        return False # Возвращаем False при неудаче\n",
    "    print(f\"Загрузка данных в '{tbl_name}' с использованием copy_expert (file)...\")\n",
    "    start_time = time.time()\n",
    "    buffer = io.StringIO() # Создаем буфер в памяти\n",
    "\n",
    "    # Записываем DataFrame в буфер как CSV, включая заголовок\n",
    "    try:\n",
    "        df.to_csv(buffer, index=False, header=True, sep=',')\n",
    "    except Exception as e:\n",
    "         print(f\"Ошибка конвертации DataFrame в CSV: {e}\")\n",
    "         buffer.close() # Закрываем буфер при ошибке\n",
    "         return False # Возвращаем False при неудаче\n",
    "    buffer.seek(0) # Перематываем буфер в начало для чтения\n",
    "    # Формируем SQL команду COPY\n",
    "    sql_copy = f\"COPY {tbl_name} FROM STDIN WITH (FORMAT CSV, HEADER TRUE, DELIMITER ',')\"\n",
    "    try:\n",
    "        # Выполняем COPY, передавая буфер как файл\n",
    "        cursor.copy_expert(sql=sql_copy, file=buffer)\n",
    "        # connection.commit() # Не требуется при autocommit=True\n",
    "        duration = time.time() - start_time\n",
    "        print(f\"Успешно: Загрузка (file) в '{tbl_name}' завершена за {duration:.2f} сек.\")\n",
    "        return True # Возвращаем True при успехе\n",
    "    except (Exception, Error) as error:\n",
    "        print(f\"ОШИБКА при выполнении copy_expert (file) для '{tbl_name}': {error}\")\n",
    "        # connection.rollback() # Не требуется при autocommit=True\n",
    "        return False # Возвращаем False при неудаче\n",
    "    finally:\n",
    "        buffer.close() # Гарантируем закрытие буфера в любом случае\n"
   ]
  },
  {
   "cell_type": "code",
   "execution_count": 9,
   "id": "e38e99b0",
   "metadata": {},
   "outputs": [
    {
     "name": "stdout",
     "output_type": "stream",
     "text": [
      "Вспомогательные функции определены.\n"
     ]
    }
   ],
   "source": [
    "def load_via_copy_file(file_path, tbl_name):\n",
    "    \"\"\"Загружает данные напрямую из CSV файла, используя copy_expert.\"\"\"\n",
    "    # Проверка подключения\n",
    "    if not connection or not cursor:\n",
    "       print(\"Нет подключения к БД.\")\n",
    "       return False # Возвращаем False при неудаче\n",
    "    # Проверка существования файла\n",
    "    if not os.path.exists(file_path):\n",
    "        print(f\"ОШИБКА: Файл '{file_path}' не найден.\")\n",
    "        return False # Возвращаем False при неудаче\n",
    "    print(f\"Загрузка данных в '{tbl_name}' с использованием copy_expert (file: {os.path.basename(file_path)})...\")\n",
    "    start_time = time.time()\n",
    "    # Формируем SQL команду COPY\n",
    "    sql_copy = f\"COPY {tbl_name} FROM STDIN WITH (FORMAT CSV, HEADER TRUE, DELIMITER ',')\"\n",
    "    try:\n",
    "        # Открываем файл для чтения и передаем его дескриптор в copy_expert\n",
    "        with open(file_path, 'r', encoding='utf-8') as f:\n",
    "            cursor.copy_expert(sql=sql_copy, file=f)\n",
    "        # connection.commit() # Не требуется при autocommit=True\n",
    "        duration = time.time() - start_time\n",
    "        print(f\"Успешно: Загрузка (file) в '{tbl_name}' завершена за {duration:.2f} сек.\")\n",
    "        return True # Возвращаем True при успехе\n",
    "    except (Exception, Error) as error:\n",
    "        print(f\"ОШИБКА при выполнении copy_expert (file) для '{tbl_name}': {error}\")\n",
    "        # connection.rollback() # Не требуется при autocommit=True\n",
    "        return False # Возвращаем False при неудаче\n",
    "\n",
    "# ... (другие вспомогательные функции, если есть) ...\n",
    "\n",
    "print(\"Вспомогательные функции определены.\")"
   ]
  },
  {
   "cell_type": "code",
   "execution_count": 10,
   "id": "b881b503",
   "metadata": {},
   "outputs": [
    {
     "name": "stdout",
     "output_type": "stream",
     "text": [
      "Вспомогательные функции определены.\n"
     ]
    }
   ],
   "source": [
    "# @title Вспомогательные Функции (Часть Базового Кода - УБЕДИТЕСЬ, ЧТО ЭТА ЯЧЕЙКА ВЫПОЛНЕНА!)\n",
    "\n",
    "# ... (импорты, константы, connect_db, close_db, execute_sql, create_table, ...) ...\n",
    "\n",
    "# --- Функция загрузки данных из SQL в DataFrame ---\n",
    "def load_df_from_sql(sql_query):\n",
    "    \"\"\"Выполняет SQL-запрос и загружает результаты в Pandas DataFrame.\"\"\"\n",
    "    # Проверяем наличие активного подключения\n",
    "    if not connection: # Для read_sql_query достаточно объекта connection\n",
    "        print(\"Нет подключения к БД для загрузки DataFrame.\")\n",
    "        return None # Возвращаем None при ошибке\n",
    "    print(f\"Загрузка данных из SQL в DataFrame: {sql_query[:100]}...\") # Показываем начало запроса\n",
    "    try:\n",
    "        # Используем pandas.read_sql_query для выполнения запроса и создания DataFrame\n",
    "        # Эта функция сама управляет курсором и соединением для чтения\n",
    "        df = pd.read_sql_query(sql_query, connection)\n",
    "        print(f\"Успешно: Загружено {len(df)} строк в DataFrame.\")\n",
    "        return df # Возвращаем созданный DataFrame\n",
    "    except (Exception, Error) as error:\n",
    "        # Обрабатываем ошибки при выполнении запроса или создании DataFrame\n",
    "        print(f\"ОШИБКА при загрузке DataFrame из SQL: {error}\")\n",
    "        return None # Возвращаем None при ошибке\n",
    "\n",
    "# ... (определения load_via_copy_stringio, load_via_copy_file и другие функции) ...\n",
    "\n",
    "print(\"Вспомогательные функции определены.\")"
   ]
  },
  {
   "cell_type": "code",
   "execution_count": 11,
   "id": "70b5c455",
   "metadata": {},
   "outputs": [
    {
     "name": "stdout",
     "output_type": "stream",
     "text": [
      "--- Запуск Варианта 8 (Упрощенная загрузка) ---\n",
      "\n",
      "--- Задача 1: Создание таблиц ---\n",
      "\n",
      "Попытка создать таблицу: sales_small\n",
      "Запрос на создание таблицы sales_small:\n",
      "\n",
      "    CREATE TABLE sales_small (\n",
      "        id INTEGER PRIMARY KEY,         -- Уникальный идентификатор, первичный ключ\n",
      "        quantity INTEGER,               -- Количество\n",
      "        cost NUMERIC(10, 2),            -- Стоимость (NUMERIC для точности)\n",
      "        total_revenue NUMERIC(12, 2)    -- Общая выручка (NUMERIC для точности)\n",
      "    );\n",
      "    \n",
      "Таблица 'sales_small' успешно создана.\n",
      "\n",
      "Попытка создать таблицу: sales_big\n",
      "Запрос на создание таблицы sales_big:\n",
      "\n",
      "    CREATE TABLE sales_big (\n",
      "        id INTEGER PRIMARY KEY,         -- Уникальный идентификатор, первичный ключ\n",
      "        quantity INTEGER,               -- Количество\n",
      "        cost NUMERIC(10, 2),            -- Стоимость (NUMERIC для точности)\n",
      "        total_revenue NUMERIC(12, 2)    -- Общая выручка (NUMERIC для точности)\n",
      "    );\n",
      "    \n",
      "Таблица 'sales_big' успешно создана.\n"
     ]
    }
   ],
   "source": [
    "# -*- coding: utf-8 -*-\n",
    "\"\"\"\n",
    "Мини-проект: Решение для Варианта 8\n",
    "\"\"\"\n",
    "\n",
    "# @title Настройка окружения и подключение к БД (Запустить первым - Базовый код)\n",
    "# ... (здесь должен быть весь ваш базовый код с импортами, константами, функциями)\n",
    "# Убедитесь, что функции connect_db, create_table, execute_sql, load_df_from_sql,\n",
    "# load_via_copy_stringio, load_via_copy_file определены и выполнены.\n",
    "# ...\n",
    "\n",
    "# --- Константы для этого варианта ---\n",
    "small_table_name = 'sales_small'\n",
    "big_table_name = 'sales_big'\n",
    "small_csv_path = r\"C:\\Users\\626\\Downloads\\upload_test_data.csv\"\n",
    "big_csv_path = r\"C:\\Users\\626\\Downloads\\upload_test_data_big.csv\"\n",
    "# ----------------------------------\n",
    "\n",
    "\n",
    "# Проверяем статус подключения перед продолжением\n",
    "if not connection or not cursor:\n",
    "    print(\"Подключение к базе данных неактивно. Пожалуйста, выполните настройку подключения.\")\n",
    "else:\n",
    "    print(\"--- Запуск Варианта 8 (Упрощенная загрузка) ---\")\n",
    "\n",
    "    # --- Задача 1: Настройка таблиц ---\n",
    "    print(\"\\n--- Задача 1: Создание таблиц ---\")\n",
    "    create_table(small_table_name)\n",
    "    create_table(big_table_name)\n",
    "    # Функция create_table должна вывести сообщения об успехе/ошибке"
   ]
  },
  {
   "cell_type": "code",
   "execution_count": 12,
   "id": "8afe8f93",
   "metadata": {},
   "outputs": [
    {
     "name": "stdout",
     "output_type": "stream",
     "text": [
      "\n",
      "--- Задача 2: Загрузка данных из 'C:\\Users\\626\\Downloads\\upload_test_data.csv' в 'sales_small' (метод file) ---\n",
      "Загрузка данных в 'sales_small' с использованием copy_expert (file: upload_test_data.csv)...\n",
      "Успешно: Загрузка (file) в 'sales_small' завершена за 0.03 сек.\n"
     ]
    }
   ],
   "source": [
    "        # --- Задача 2: Загрузка малых данных (copy_expert file) ---\n",
    "    print(f\"\\n--- Задача 2: Загрузка данных из '{small_csv_path}' в '{small_table_name}' (метод file) ---\")\n",
    "    if os.path.exists(small_csv_path):\n",
    "        load_via_copy_file(small_csv_path, small_table_name)\n",
    "\n",
    "    else:\n",
    "        # Сообщение, если файл не найден\n",
    "        print(f\"ОШИБКА: Файл '{small_csv_path}' не найден. Загрузка не выполнена.\")"
   ]
  },
  {
   "cell_type": "code",
   "execution_count": 13,
   "id": "60026527",
   "metadata": {},
   "outputs": [
    {
     "name": "stdout",
     "output_type": "stream",
     "text": [
      "\n",
      "--- Задача 3: Загрузка данных из 'C:\\Users\\626\\Downloads\\upload_test_data_big.csv' в 'sales_big' (метод file) ---\n",
      "Загрузка данных в 'sales_big' с использованием copy_expert (file: upload_test_data_big.csv)...\n",
      "Успешно: Загрузка (file) в 'sales_big' завершена за 5.84 сек.\n"
     ]
    }
   ],
   "source": [
    "            # --- Задача 3: Загрузка больших данных (copy_expert file) ---\n",
    "    print(f\"\\n--- Задача 3: Загрузка данных из '{big_csv_path}' в '{big_table_name}' (метод file) ---\")\n",
    "    if os.path.exists(big_csv_path):\n",
    "        # Напрямую вызываем функцию загрузки из файла\n",
    "        load_via_copy_file(big_csv_path, big_table_name)\n",
    "        # Функция load_via_copy_file выведет сообщение об успехе/ошибке загрузки\n",
    "    else:\n",
    "        # Сообщение, если файл не найден\n",
    "        print(f\"ОШИБКА: Файл '{big_csv_path}' не найден. Загрузка не выполнена.\")"
   ]
  },
  {
   "cell_type": "code",
   "execution_count": 14,
   "id": "0dd40be3",
   "metadata": {},
   "outputs": [
    {
     "name": "stdout",
     "output_type": "stream",
     "text": [
      "\n",
      "--- Задача 4: SQL Анализ таблицы sales_small ---\n",
      "Выполнение SQL запроса:\n",
      "\n",
      "SELECT COUNT(*)\n",
      "FROM sales_small\n",
      "WHERE total_revenue > 200;\n",
      "\n",
      "\n",
      "\n",
      "Результаты запроса (COUNT(*)):\n",
      "(244,)\n"
     ]
    }
   ],
   "source": [
    "            # --- Задача 4: SQL Анализ ---\n",
    "    print(\"\\n--- Задача 4: SQL Анализ таблицы sales_small ---\")\n",
    "    sql_query_task4 = f\"\"\"\n",
    "    SELECT COUNT(*)\n",
    "    FROM {small_table_name}\n",
    "    WHERE total_revenue > 200;\n",
    "    \n",
    "    \"\"\"\n",
    "    print(\"Выполнение SQL запроса:\")\n",
    "    print(sql_query_task4)\n",
    "    results_task4 = execute_sql(sql_query_task4, fetch=True)\n",
    "\n",
    "    if results_task4 is not None:\n",
    "        print(\"\\nРезультаты запроса (COUNT(*)):\")\n",
    "        if results_task4:\n",
    "            for row in results_task4:\n",
    "                print(row)\n",
    "        else:\n",
    "            print(\"Запрос успешно выполнен, но не вернул строк.\")\n",
    "    else:\n",
    "        print(\"Ошибка выполнения SQL запроса.\")"
   ]
  },
  {
   "cell_type": "code",
   "execution_count": 15,
   "id": "1c69a9f5",
   "metadata": {},
   "outputs": [
    {
     "name": "stdout",
     "output_type": "stream",
     "text": [
      "\n",
      "--- Задача 5: Визуализация quantity из sales_big ---\n",
      "Получение данных для графика: SELECT quantity FROM sales_big LIMIT 50000;\n",
      "Загрузка данных из SQL в DataFrame: SELECT quantity FROM sales_big LIMIT 50000;...\n",
      "Успешно: Загружено 50000 строк в DataFrame.\n",
      "Загружено 50000 строк для построения графика.\n"
     ]
    },
    {
     "name": "stderr",
     "output_type": "stream",
     "text": [
      "C:\\Users\\626\\AppData\\Local\\Temp\\ipykernel_7484\\1861541220.py:16: UserWarning: pandas only supports SQLAlchemy connectable (engine/connection) or database string URI or sqlite3 DBAPI2 connection. Other DBAPI2 objects are not tested. Please consider using SQLAlchemy.\n",
      "  df = pd.read_sql_query(sql_query, connection)\n"
     ]
    },
    {
     "data": {
      "image/png": "[encoded data removed]",
      "text/plain": [
       "<Figure size 1000x600 with 1 Axes>"
      ]
     },
     "metadata": {},
     "output_type": "display_data"
    },
    {
     "name": "stdout",
     "output_type": "stream",
     "text": [
      "\n",
      "--- Вариант 8 Завершен ---\n",
      "Соединение с базой данных закрыто\n"
     ]
    }
   ],
   "source": [
    "        # --- Задача 5: Python Визуализация ---\n",
    "print(\"\\n--- Задача 5: Визуализация quantity из sales_big ---\")\n",
    "sql_query_task5 = f\"SELECT quantity FROM {big_table_name} LIMIT 50000;\"\n",
    "print(f\"Получение данных для графика: {sql_query_task5}\")\n",
    "\n",
    "df_plot_data = load_df_from_sql(sql_query_task5)\n",
    "\n",
    "if df_plot_data is not None and not df_plot_data.empty:\n",
    "    print(f\"Загружено {len(df_plot_data)} строк для построения графика.\")\n",
    "    \n",
    "    fig, ax = plt.subplots(figsize=(10, 6))\n",
    "    # Построение гистограммы вместо scatter plot\n",
    "    ax.hist(df_plot_data['quantity'], bins=30, color='skyblue', edgecolor='black')\n",
    "    \n",
    "    ax.set_xlabel('Количество (Quantity)')\n",
    "    ax.set_ylabel('Частота') \n",
    "    ax.set_title('Распределение Quantity (50,000 записей)') \n",
    "    ax.grid(True, linestyle='--', alpha=0.6)\n",
    "    plt.show()\n",
    "    \n",
    "elif df_plot_data is not None and df_plot_data.empty:\n",
    "    print(\"Запрос выполнен, но данные из sales_big для графика не получены.\")\n",
    "else:\n",
    "    print(\"Не удалось загрузить данные из sales_big для построения графика.\")\n",
    "\n",
    "print(\"\\n--- Вариант 8 Завершен ---\")\n",
    "\n",
    "\n",
    "\n",
    "    # закрываем соединение \n",
    "if cursor:\n",
    "        cursor.close()\n",
    "if connection:\n",
    "        connection.close()\n",
    "print(\"Соединение с базой данных закрыто\")\n",
    "\n",
    "\n",
    "# --- Важно: Закройте соединение в конце вашего ноутбука ---\n",
    "# print(\"\\n--- Очистка ресурсов ---\")\n",
    "# close_db()"
   ]
  }
 ],
 "metadata": {
  "kernelspec": {
   "display_name": "Python 3",
   "language": "python",
   "name": "python3"
  },
  "language_info": {
   "codemirror_mode": {
    "name": "ipython",
    "version": 3
   },
   "file_extension": ".py",
   "mimetype": "text/x-python",
   "name": "python",
   "nbconvert_exporter": "python",
   "pygments_lexer": "ipython3",
   "version": "3.11.9"
  }
 },
 "nbformat": 4,
 "nbformat_minor": 5
}
